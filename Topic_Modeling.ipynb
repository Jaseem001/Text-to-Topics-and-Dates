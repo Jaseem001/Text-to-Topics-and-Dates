{
  "nbformat": 4,
  "nbformat_minor": 0,
  "metadata": {
    "colab": {
      "name": "Topic Modeling.ipynb",
      "provenance": [],
      "collapsed_sections": [],
      "include_colab_link": true
    },
    "kernelspec": {
      "name": "python3",
      "display_name": "Python 3"
    }
  },
  "cells": [
    {
      "cell_type": "markdown",
      "metadata": {
        "id": "view-in-github",
        "colab_type": "text"
      },
      "source": [
        "<a href=\"https://colab.research.google.com/github/Jaseem001/Text-to-Topics-and-Dates/blob/main/Topic_Modeling.ipynb\" target=\"_parent\"><img src=\"https://colab.research.google.com/assets/colab-badge.svg\" alt=\"Open In Colab\"/></a>"
      ]
    },
    {
      "cell_type": "code",
      "metadata": {
        "id": "9AzymG1jU27i",
        "outputId": "7ea8cd33-991e-4b53-b3d2-fdf24b5b174e",
        "colab": {
          "base_uri": "https://localhost:8080/",
          "height": 67
        }
      },
      "source": [
        "import gensim\n",
        "import re\n",
        "from gensim.utils import simple_preprocess\n",
        "from gensim.parsing.preprocessing import STOPWORDS\n",
        "from nltk.stem import WordNetLemmatizer, SnowballStemmer\n",
        "from nltk.stem.porter import *\n",
        "import numpy as np\n",
        "import dateutil.parser as dparser\n",
        "import nltk\n",
        "import datetime as dt\n",
        "nltk.download('wordnet')"
      ],
      "execution_count": null,
      "outputs": [
        {
          "output_type": "stream",
          "text": [
            "[nltk_data] Downloading package wordnet to /root/nltk_data...\n",
            "[nltk_data]   Package wordnet is already up-to-date!\n"
          ],
          "name": "stdout"
        },
        {
          "output_type": "execute_result",
          "data": {
            "text/plain": [
              "True"
            ]
          },
          "metadata": {
            "tags": []
          },
          "execution_count": 9
        }
      ]
    },
    {
      "cell_type": "code",
      "metadata": {
        "id": "BsWYlQQYzUm5"
      },
      "source": [
        "#@title\n",
        "#function to convert number names to numbers\n",
        "def text2int(textnum, numwords={}):\n",
        "    if not numwords:\n",
        "      units = [\n",
        "        \"zero\", \"one\", \"two\", \"three\", \"four\", \"five\", \"six\", \"seven\", \"eight\",\n",
        "        \"nine\", \"ten\", \"eleven\", \"twelve\", \"thirteen\", \"fourteen\", \"fifteen\",\n",
        "        \"sixteen\", \"seventeen\", \"eighteen\", \"nineteen\",\n",
        "      ]\n",
        "      tens = [\"\", \"\", \"twenty\", \"thirty\", \"forty\", \"fifty\", \"sixty\", \"seventy\", \"eighty\", \"ninety\"]\n",
        "      scales = [\"hundred\", \"thousand\", \"million\", \"billion\", \"trillion\"]\n",
        "      numwords[\"and\"] = (1, 0)\n",
        "      for idx, word in enumerate(units):    numwords[word] = (1, idx)\n",
        "      for idx, word in enumerate(tens):     numwords[word] = (1, idx * 10)\n",
        "      for idx, word in enumerate(scales):   numwords[word] = (10 ** (idx * 3 or 2), 0)\n",
        "    current = result = 0\n",
        "    for word in textnum.split():\n",
        "        if word not in numwords:\n",
        "          return word\n",
        "        scale, increment = numwords[word]\n",
        "        current = current * scale + increment\n",
        "        if scale > 100:\n",
        "            result += current\n",
        "            current = 0\n",
        "    return result + current"
      ],
      "execution_count": null,
      "outputs": []
    },
    {
      "cell_type": "code",
      "metadata": {
        "id": "4o6lhNekzxDO"
      },
      "source": [
        "text = \"Math test portions full module 1. Timing 9:30\"\n",
        "text = text.lower().split()\n",
        "for i, word in enumerate(text):\n",
        "    if text[i] != \"and\":\n",
        "        text[i] = str(text2int(word))                                      #converting number names to integers\n",
        "text = \" \".join(text)\n",
        "text = re.sub(r'(\\d)\\s+(\\d)+', r'\\1:\\2', text)                            #converting space between time numbers to :"
      ],
      "execution_count": null,
      "outputs": []
    },
    {
      "cell_type": "code",
      "metadata": {
        "id": "-VKWvigZcVSm",
        "outputId": "0fdab921-0f2a-478c-e35e-ea336fa2a4c8",
        "colab": {
          "base_uri": "https://localhost:8080/",
          "height": 35
        }
      },
      "source": [
        "#replacing the commonly occuring words with datetime values\n",
        "text = text.replace(\"later\", str(dt.datetime.now() + dt.timedelta(hours=2)))\n",
        "text = text.replace(\" coming \", \" next \")  \n",
        "text = text.replace(\"tonight\", \"8 pm\") \n",
        "text = text.replace(\"morning\", \"8 am\") \n",
        "text = text.replace(\"noon\", \" 12 pm\") \n",
        "text = text.replace(\"evening\", \"4 pm\")\n",
        "text = text.replace(\"midnight\", \"12 am\")\n",
        "text = text.replace(\"this week\", str(dt.datetime.now().date() + dt.timedelta((0-dt.datetime.now().weekday()) % 7 )))\n",
        "text = text.replace(\"next week\", str(dt.datetime.now().date() + dt.timedelta((0-dt.datetime.now().weekday()) % 7 )))\n",
        "text = text.replace(\"next monday\", str(dt.datetime.now().date() + dt.timedelta((0-dt.datetime.now().weekday()) % 7 )))\n",
        "text = text.replace(\"next tuesday\", str(dt.datetime.now().date() + dt.timedelta((1-dt.datetime.now().weekday()) % 7 )))\n",
        "text = text.replace(\"next wednesday\", str(dt.datetime.now().date() + dt.timedelta((2-dt.datetime.now().weekday()) % 7 )))\n",
        "text = text.replace(\"next thursday\", str(dt.datetime.now().date() + dt.timedelta((3-dt.datetime.now().weekday()) % 7 )))\n",
        "text = text.replace(\"next friday\", str(dt.datetime.now().date() + dt.timedelta((4-dt.datetime.now().weekday()) % 7 )))\n",
        "text = text.replace(\"next saturday\", str(dt.datetime.now().date() + dt.timedelta((5-dt.datetime.now().weekday()) % 7 )))\n",
        "text = text.replace(\"next sunday\", str(dt.datetime.now().date() + dt.timedelta((6-dt.datetime.now().weekday()) % 7 )))\n",
        "text = text.replace(\"2 weeks\", str(dt.datetime.now().date() + dt.timedelta(days=14))) \n",
        "text = text.replace(\"around this time\", str(dt.datetime.now().strftime(\"%H:%M:%S\"))) \n",
        "text = text.replace(\"this weekend\", str(dt.datetime.now().date() + dt.timedelta((5-dt.datetime.now().date().weekday()) % 7 ))) \n",
        "text = text.replace(\"next weekend\", str(dt.datetime.now().date() + dt.timedelta((5-dt.datetime.now().date().weekday()) % 7 ) + dt.timedelta(days=7)))\n",
        "text = text.replace(\"weekend\", str(dt.datetime.now().date() + dt.timedelta((5-dt.datetime.now().date().weekday()) % 7 ))) \n",
        "text = text.replace(\" from today \", \" \")\n",
        "text = text.replace(\"day after tomorrow\", str(dt.datetime.now().date() + dt.timedelta(days=2))) \n",
        "text = text.replace(\"day after\", str(dt.datetime.now().date() + dt.timedelta(days=2))) \n",
        "text = text.replace(\"tomorrow\", str(dt.datetime.now().date() + dt.timedelta(days=1))) \n",
        "text = text.replace(\"next day\", str(dt.datetime.now().date() + dt.timedelta(days=1))) \n",
        "text = text.replace(\" having \", \" \")\n",
        "text = text.replace(\"guys\", \"\")\n",
        "text = text.replace(\"guys\", \"\")\n",
        "text = text.replace(\"hey\", \"\")\n",
        "text = text.replace(\"hello\", \"\")\n",
        "text"
      ],
      "execution_count": null,
      "outputs": [
        {
          "output_type": "execute_result",
          "data": {
            "application/vnd.google.colaboratory.intrinsic+json": {
              "type": "string"
            },
            "text/plain": [
              "'math test portions full module 1. timing 9:30'"
            ]
          },
          "metadata": {
            "tags": []
          },
          "execution_count": 19
        }
      ]
    },
    {
      "cell_type": "code",
      "metadata": {
        "id": "LlTZGCIdTWpi",
        "outputId": "629eaa5a-7900-4fed-8a71-2795689dfa06",
        "colab": {
          "base_uri": "https://localhost:8080/",
          "height": 50
        }
      },
      "source": [
        "cal_date = []\n",
        "parts = re.split(' to | - ', text)\n",
        "for i, sentence in enumerate(parts):\n",
        "    try:\n",
        "        cal_date.append(dparser.parse(parts[i],fuzzy=True))\n",
        "    except:\n",
        "        pass\n",
        "result = []\n",
        "for token in gensim.utils.simple_preprocess(text):\n",
        "    if token not in gensim.parsing.preprocessing.STOPWORDS and len(token) > 2:\n",
        "        result.append(token)\n",
        "reminder = \" \".join(result).title()\n",
        "reminder = re.sub('(?:Jan(?:uary)?|Feb(?:ruary)?|Mar(?:ch)?|Apr(?:il)?|May|Jun(?:e)?|Jul(?:y)?|Aug(?:ust)?|Sep(?:tember)?|Sept|Oct(?:ober)?|Nov(?:ember)?|Dec(?:ember)|Mon(?:day)?|Tue(?:sday)?|Wed(?:nesday)?|Thu(?:rsday)?|Fri(?:day)?|Sat(?:urday)?|Sun(?:day)?)', '', reminder)\n",
        "print(reminder)\n",
        "print(cal_date)"
      ],
      "execution_count": null,
      "outputs": [
        {
          "output_type": "stream",
          "text": [
            "Math Test Portions Module Timing\n",
            "[datetime.datetime(2020, 10, 1, 9, 30)]\n"
          ],
          "name": "stdout"
        }
      ]
    }
  ]
}